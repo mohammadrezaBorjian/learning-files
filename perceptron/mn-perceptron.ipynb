{
 "cells": [
  {
   "cell_type": "code",
   "execution_count": 10,
   "metadata": {},
   "outputs": [],
   "source": [
    "import numpy as np\n",
    "import numpy as np\n",
    "import matplotlib.pyplot as plt \n",
    "import itertools"
   ]
  },
  {
   "cell_type": "code",
   "execution_count": 3,
   "metadata": {},
   "outputs": [],
   "source": [
    "needItrateAgain = True"
   ]
  },
  {
   "cell_type": "code",
   "execution_count": 4,
   "metadata": {},
   "outputs": [],
   "source": [
    "def hardLimit(data):\n",
    "    return 1 if data > 0 else 0"
   ]
  },
  {
   "cell_type": "code",
   "execution_count": 5,
   "metadata": {},
   "outputs": [],
   "source": [
    "def updateWeights(oldWeights,error,inputs,bias):\n",
    "    if(error != 0):\n",
    "        global needItrateAgain\n",
    "        needItrateAgain = True\n",
    "        inputs = np.dot(inputs , error)\n",
    "        bias = bias + error\n",
    "        return np.add(inputs , oldWeights),bias\n",
    "    else:\n",
    "        return oldWeights,bias"
   ]
  },
  {
   "cell_type": "code",
   "execution_count": 6,
   "metadata": {},
   "outputs": [],
   "source": [
    "def calculateError(target,predict):\n",
    "    return target - predict"
   ]
  },
  {
   "cell_type": "code",
   "execution_count": 7,
   "metadata": {},
   "outputs": [],
   "source": [
    "def calculateInputs(inputs , weights, bias):\n",
    "    multiplaction = inputs * weights \n",
    "    sum = np.sum(multiplaction)\n",
    "    return sum + bias"
   ]
  },
  {
   "cell_type": "code",
   "execution_count": 8,
   "metadata": {},
   "outputs": [],
   "source": [
    "def itrateDataRecords(inputs,targets,weights,bias):\n",
    "    for i in range(np.size(inputs,0)):\n",
    "        calculate = calculateInputs(inputs[i] ,weights, bias)\n",
    "        predict = hardLimit(calculate)\n",
    "        error = calculateError(targets[i],predict)\n",
    "        weights , bias = updateWeights(weights , error ,inputs[i], bias)\n",
    "    return weights,bias\n",
    "        "
   ]
  },
  {
   "cell_type": "code",
   "execution_count": 11,
   "metadata": {},
   "outputs": [],
   "source": [
    "def perceptron(baseInputs , basetargets):\n",
    "    iteration = 0\n",
    "    iteration_limit = 100\n",
    "    global needItrateAgain\n",
    "    needItrateAgain = True\n",
    "    \n",
    "    inputs = np.array(baseInputs)\n",
    "    targets = np.array(basetargets)\n",
    "    weights = [np.random.random() for x in range(inputs.shape[1])]\n",
    "    bias = np.random.random()\n",
    "\n",
    "    while((needItrateAgain and iteration < iteration_limit)):\n",
    "        print(\"---------------------------\")\n",
    "        needItrateAgain = False\n",
    "        weights,bias = itrateDataRecords(inputs , targets,weights,bias)\n",
    "        print(weights , bias)\n",
    "        iteration = iteration + 1\n",
    "        print(iteration)\n",
    "\n",
    "    print(f\"weights:{weights}, bias:{bias}\")\n",
    "    weights = np.append(weights , bias)\n",
    "    return weights"
   ]
  },
  {
   "cell_type": "code",
   "execution_count": 12,
   "metadata": {},
   "outputs": [],
   "source": [
    "def seperateDataByOutputs(outputs):\n",
    "    outputsList = []\n",
    "    for i in range(outputs.shape[1]) :\n",
    "        output = [item[i] for item in outputs]\n",
    "        outputsList.append(output)\n",
    "    \n",
    "    return np.array(outputsList)"
   ]
  },
  {
   "cell_type": "code",
   "execution_count": 13,
   "metadata": {},
   "outputs": [],
   "source": [
    "def showChart(inputs,targets, weightsList):\n",
    "    inputsXGroup = []\n",
    "    inputsYGroup = []\n",
    "    marker = itertools.cycle((',', '+', '.', 'o', '*')) \n",
    "\n",
    "    targetsSet = np.unique(targets, axis=0)\n",
    "    for i in targetsSet:\n",
    "        Xlist = []\n",
    "        Ylist  = []\n",
    "        for size,input in enumerate(inputs):\n",
    "            if (targets[size] == i).all():\n",
    "                Xlist.append(input[0])\n",
    "                Ylist.append(input[1])\n",
    "        \n",
    "        inputsXGroup.append(Xlist)\n",
    "        inputsYGroup.append(Ylist)\n",
    "    \n",
    "\n",
    "    xlist = np.linspace(-5.0, 5.0, 100)\n",
    "    ylist = np.linspace(-5.0, 5.0,100) \n",
    "    X,Y = np.meshgrid(xlist, ylist)\n",
    "\n",
    "\n",
    "    for i in weightsList:\n",
    "        F = i[0]*X + i[1]*Y + i[2]\n",
    "        plt.contour(X, Y, F, [0], colors = 'k', linestyles = 'solid')\n",
    "\n",
    "    for i,v in enumerate(inputsXGroup):\n",
    "        plt.scatter(inputsXGroup[i], inputsYGroup[i], color= \"red\",  marker= next(marker), s=30)\n",
    "\n",
    "    # specifying horizontal line type \n",
    "    plt.axhline(y = 0, color = 'b', linestyle = '-') \n",
    "    plt.axvline(x=0,color = \"b\" , linestyle = '-')\n",
    "    \n",
    "    plt.legend() \n",
    "    plt.show()"
   ]
  },
  {
   "cell_type": "code",
   "execution_count": 17,
   "metadata": {},
   "outputs": [],
   "source": [
    "def perceptronClassification(inputs,outputs):\n",
    "    inputs = np.array(inputs)\n",
    "    targets = np.array(outputs)\n",
    "    outputList = seperateDataByOutputs(targets)\n",
    "    weightsList = []\n",
    "\n",
    "    for i in range(outputList.shape[0]):\n",
    "        weightsList.append(perceptron(inputs , outputList[i]))\n",
    "\n",
    "    print(f\"weights1{weightsList}\")\n",
    "    showChart(inputs , targets , weightsList)"
   ]
  },
  {
   "cell_type": "code",
   "execution_count": 19,
   "metadata": {},
   "outputs": [
    {
     "name": "stdout",
     "output_type": "stream",
     "text": [
      "---------------------------\n",
      "[-4.60668756  1.70749135] 0.25056430577070277\n",
      "1\n",
      "---------------------------\n",
      "[-4.60668756  1.70749135] 0.25056430577070277\n",
      "2\n",
      "weights:[-4.60668756  1.70749135], bias:0.25056430577070277\n",
      "---------------------------\n",
      "[-1.29704294 -4.3187607 ] 1.9537423519679633\n",
      "1\n",
      "---------------------------\n",
      "[ 0.70295706 -4.3187607 ] 2.9537423519679633\n",
      "2\n",
      "---------------------------\n",
      "[ 0.70295706 -4.3187607 ] 2.9537423519679633\n",
      "3\n",
      "weights:[ 0.70295706 -4.3187607 ], bias:2.9537423519679633\n",
      "weights1[array([-4.60668756,  1.70749135,  0.25056431]), array([ 0.70295706, -4.3187607 ,  2.95374235])]\n"
     ]
    },
    {
     "name": "stderr",
     "output_type": "stream",
     "text": [
      "/var/folders/mw/00nb0zwj2bxgkkr5l0md1_l80000gn/T/ipykernel_17115/37028840.py:35: UserWarning: No artists with labels found to put in legend.  Note that artists whose label start with an underscore are ignored when legend() is called with no argument.\n",
      "  plt.legend()\n"
     ]
    },
    {
     "data": {
      "image/png": "[encoded data removed]",
      "text/plain": [
       "<Figure size 640x480 with 1 Axes>"
      ]
     },
     "metadata": {},
     "output_type": "display_data"
    }
   ],
   "source": [
    "inputs = [[1,1],[1,2],[2,-1],[2,0],[-1,2],[-2,1],[-1,-1],[-3,-3],[0,-3]]\n",
    "outputs = [[0,0],[0,0],[0,1],[0,1],[1,0],[1,0],[1,1],[1,1],[0,1]]\n",
    "\n",
    "perceptronClassification(inputs , outputs)"
   ]
  }
 ],
 "metadata": {
  "kernelspec": {
   "display_name": "bays",
   "language": "python",
   "name": "python3"
  },
  "language_info": {
   "codemirror_mode": {
    "name": "ipython",
    "version": 3
   },
   "file_extension": ".py",
   "mimetype": "text/x-python",
   "name": "python",
   "nbconvert_exporter": "python",
   "pygments_lexer": "ipython3",
   "version": "3.10.11"
  }
 },
 "nbformat": 4,
 "nbformat_minor": 2
}
