{
 "cells": [
  {
   "cell_type": "code",
   "execution_count": 1,
   "metadata": {},
   "outputs": [],
   "source": [
    "import numpy as np"
   ]
  },
  {
   "cell_type": "code",
   "execution_count": 2,
   "metadata": {},
   "outputs": [],
   "source": [
    "input_values = np.array([[0,0],[0,1],[1,0],[1,1]])\n",
    "or_targets = np.array([0,1,1,1])\n",
    "and_targets = np.array([0,0,0,1])\n"
   ]
  },
  {
   "cell_type": "code",
   "execution_count": 3,
   "metadata": {},
   "outputs": [],
   "source": [
    "def update_weights(x,old_weights,error):\n",
    "    return old_weights + error * x\n"
   ]
  },
  {
   "cell_type": "code",
   "execution_count": 4,
   "metadata": {},
   "outputs": [],
   "source": [
    "def update_bias(old_bias,error):\n",
    "    return old_bias + error"
   ]
  },
  {
   "cell_type": "code",
   "execution_count": 5,
   "metadata": {},
   "outputs": [],
   "source": [
    "def hard_lim(x):\n",
    "    if x > 0:\n",
    "        return 1\n",
    "    else:\n",
    "        return 0\n"
   ]
  },
  {
   "cell_type": "code",
   "execution_count": 6,
   "metadata": {},
   "outputs": [],
   "source": [
    "def calculate_output(x,w,b):\n",
    "    return hard_lim(np.dot(x, w) + b)"
   ]
  },
  {
   "cell_type": "code",
   "execution_count": 7,
   "metadata": {},
   "outputs": [],
   "source": [
    "def perceptron(x,t):    \n",
    "    is_changed = True\n",
    "    bias = np.random.randint(0,2 , size = 1)\n",
    "    weights = np.random.randint(0, 2, size= input_values.shape[1])\n",
    "    \n",
    "    while is_changed:\n",
    "        is_changed = False\n",
    "        for i , input in enumerate(x):\n",
    "            predict_output = calculate_output(input , weights , bias)\n",
    "            \n",
    "            if not (predict_output == t[i] ):\n",
    "                is_changed = True\n",
    "                error = t[i] - predict_output\n",
    "                print(error)\n",
    "                weights = update_weights(input,weights,error)\n",
    "                bias = update_bias(bias , error)\n",
    "    print (weights , bias)\n",
    "    return weights,bias\n",
    "        "
   ]
  },
  {
   "cell_type": "code",
   "execution_count": 8,
   "metadata": {},
   "outputs": [
    {
     "name": "stdout",
     "output_type": "stream",
     "text": [
      "1\n",
      "-1\n",
      "[1 1] [0]\n"
     ]
    }
   ],
   "source": [
    "w,b = perceptron(input_values,or_targets)\n",
    "\n"
   ]
  },
  {
   "cell_type": "code",
   "execution_count": 9,
   "metadata": {},
   "outputs": [
    {
     "name": "stdout",
     "output_type": "stream",
     "text": [
      "0\n",
      "1\n",
      "1\n",
      "1\n"
     ]
    }
   ],
   "source": [
    "for i,input in enumerate(input_values):\n",
    "    print(calculate_output(input , w,b))\n",
    "    "
   ]
  },
  {
   "cell_type": "code",
   "execution_count": 18,
   "metadata": {},
   "outputs": [
    {
     "name": "stdout",
     "output_type": "stream",
     "text": [
      "-1\n",
      "1\n",
      "-1\n",
      "-1\n",
      "1\n",
      "-1\n",
      "1\n",
      "-1\n",
      "[2 1] [-2]\n"
     ]
    }
   ],
   "source": [
    "w,b = perceptron(input_values,and_targets)"
   ]
  },
  {
   "cell_type": "code",
   "execution_count": 19,
   "metadata": {},
   "outputs": [
    {
     "name": "stdout",
     "output_type": "stream",
     "text": [
      "0\n",
      "0\n",
      "0\n",
      "1\n"
     ]
    }
   ],
   "source": [
    "for i,input in enumerate(input_values):\n",
    "    print(calculate_output(input , w,b))\n",
    "    "
   ]
  }
 ],
 "metadata": {
  "kernelspec": {
   "display_name": "bays",
   "language": "python",
   "name": "python3"
  },
  "language_info": {
   "codemirror_mode": {
    "name": "ipython",
    "version": 3
   },
   "file_extension": ".py",
   "mimetype": "text/x-python",
   "name": "python",
   "nbconvert_exporter": "python",
   "pygments_lexer": "ipython3",
   "version": "3.10.11"
  }
 },
 "nbformat": 4,
 "nbformat_minor": 2
}
