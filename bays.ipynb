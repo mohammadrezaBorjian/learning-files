{
 "cells": [
  {
   "cell_type": "code",
   "execution_count": 44,
   "metadata": {},
   "outputs": [],
   "source": [
    "from sklearn.naive_bayes import GaussianNB\n",
    "from sklearn.datasets import load_breast_cancer\n",
    "from sklearn.model_selection import train_test_split"
   ]
  },
  {
   "cell_type": "code",
   "execution_count": 34,
   "metadata": {},
   "outputs": [],
   "source": [
    "x , y = load_breast_cancer(return_X_y=True)\n",
    "X_train, X_test, y_train, y_test = train_test_split(x ,y,test_size= 0.2)"
   ]
  },
  {
   "cell_type": "code",
   "execution_count": 35,
   "metadata": {},
   "outputs": [],
   "source": [
    "bays = GaussianNB()\n",
    "y_predict = bays.fit(X_train,y_train)"
   ]
  },
  {
   "cell_type": "code",
   "execution_count": 36,
   "metadata": {},
   "outputs": [],
   "source": [
    "test_predict = bays.predict(X_test)\n",
    "train_predict = bays.predict(X_train)"
   ]
  },
  {
   "cell_type": "code",
   "execution_count": 37,
   "metadata": {},
   "outputs": [],
   "source": [
    "from sklearn.metrics import  accuracy_score,recall_score,precision_score"
   ]
  },
  {
   "cell_type": "code",
   "execution_count": 42,
   "metadata": {},
   "outputs": [
    {
     "name": "stdout",
     "output_type": "stream",
     "text": [
      "accuracy_score_test = 0.9210526315789473 \n",
      "accuracy_score_train = 0.9472527472527472 \n",
      "recall_score_test = 0.925 \n",
      "recall_score_train = 0.9413793103448276 \n",
      "precision_score_test = 0.961038961038961 \n",
      "precision_score_train = 0.975 \n"
     ]
    }
   ],
   "source": [
    "accuracy_test = accuracy_score(test_predict,y_test)\n",
    "accuracy_train = accuracy_score(train_predict,y_train)\n",
    "\n",
    "recall_test = recall_score(test_predict,y_test)\n",
    "recall_train = recall_score(train_predict,y_train)\n",
    "\n",
    "precision_test = precision_score(test_predict,y_test)\n",
    "precision_train = precision_score(train_predict,y_train)\n",
    "\n",
    "print(f'accuracy_score_test = {accuracy_test} ')\n",
    "print(f'accuracy_score_train = {accuracy_train} ')\n",
    "\n",
    "print(f'recall_score_test = {recall_test} ')\n",
    "print(f'recall_score_train = {recall_train} ')\n",
    "\n",
    "print(f'precision_score_test = {precision_test} ')\n",
    "print(f'precision_score_train = {precision_train} ')\n",
    "\n"
   ]
  }
 ],
 "metadata": {
  "kernelspec": {
   "display_name": "bays",
   "language": "python",
   "name": "python3"
  },
  "language_info": {
   "codemirror_mode": {
    "name": "ipython",
    "version": 3
   },
   "file_extension": ".py",
   "mimetype": "text/x-python",
   "name": "python",
   "nbconvert_exporter": "python",
   "pygments_lexer": "ipython3",
   "version": "3.10.11"
  }
 },
 "nbformat": 4,
 "nbformat_minor": 2
}
